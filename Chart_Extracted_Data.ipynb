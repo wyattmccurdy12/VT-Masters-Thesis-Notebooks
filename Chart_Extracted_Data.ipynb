{
 "cells": [
  {
   "cell_type": "markdown",
   "metadata": {},
   "source": [
    "Import libraries"
   ]
  },
  {
   "cell_type": "code",
   "execution_count": 1,
   "metadata": {},
   "outputs": [],
   "source": [
    "import pandas as pd\n",
    "import numpy as np\n",
    "import matplotlib.pyplot as plt\n",
    "from matplotlib.pyplot import plot\n",
    "import seaborn as sns\n",
    "import os"
   ]
  },
  {
   "cell_type": "markdown",
   "metadata": {},
   "source": [
    "--------\n",
    "Define functions"
   ]
  },
  {
   "cell_type": "code",
   "execution_count": 2,
   "metadata": {},
   "outputs": [],
   "source": [
    "# This function classifies a timeseries' disturbance date, \n",
    "# based on whether or not it is a cleared stand or a thinned stand.\n",
    "# It translates the disturbance map raster code into an integer value \n",
    "# for year of disturbance.\n",
    "\n",
    "# Add a year-disturbed column to dataset\n",
    "def StandAge(pixVal):\n",
    "\n",
    "    if 14 <= pixVal <= 41:\n",
    "\n",
    "        return pixVal + 1970\n",
    "\n",
    "    elif 64 <= pixVal <= 91:\n",
    "\n",
    "        return pixVal + 1920\n",
    "\n",
    "    else:\n",
    "        return -9999\n",
    "    \n",
    "# This also uses the disturbance map. It classifies a timeseries based on whether or \n",
    "# not it was cleared completely, or whether it was just a thinning disturbance. \n",
    "\n",
    "# enter a pixel value\n",
    "def dMapClasses(pixVal):\n",
    "    # if it is in the range of forests...\n",
    "    if 14 <= pixVal <= 91:\n",
    "        # if it is in the range of clears...\n",
    "        if 14 <= pixVal <= 41: \n",
    "            return \"Clear\"\n",
    "        # else if in the range of nonclears...\n",
    "        elif 64 <= pixVal <= 91:\n",
    "            return \"Thin\"\n",
    "    else:\n",
    "        return \"Other\""
   ]
  },
  {
   "cell_type": "markdown",
   "metadata": {},
   "source": [
    "---\n",
    "Add dataframes. \n",
    "\n",
    "1. Leaf Area Index Acquisitions \n",
    "2. Disturbance Map Pixel Values (1984-2011)"
   ]
  },
  {
   "cell_type": "code",
   "execution_count": 3,
   "metadata": {},
   "outputs": [],
   "source": [
    "# Change the directory\n",
    "os.chdir(\"/Users/wyatt/Desktop/Thesis_Final_Push/Threshold9_County_Polygon_Data\")\n",
    "\n",
    "# Load leaf area index timeseries data\n",
    "lai = pd.read_csv(\"/Users/wyatt/Downloads/HUC10_LAI_Timeseries_HucCut.csv\")\n",
    "\n",
    "# Load information from disturbance date raster\n",
    "dist = pd.read_csv(\"/Users/wyatt/Downloads/HUC10_Disturbance_Map.csv\")"
   ]
  },
  {
   "cell_type": "code",
   "execution_count": 4,
   "metadata": {},
   "outputs": [],
   "source": [
    "# Merge in LAI data, an inner join\n",
    "mrgd = lai.merge(right = dist, \\\n",
    "                               how = \"inner\", \\\n",
    "                               on = \".geo\")"
   ]
  },
  {
   "cell_type": "code",
   "execution_count": 5,
   "metadata": {},
   "outputs": [],
   "source": [
    "# apply disturbance classes to the map\n",
    "mrgd['dist_classes'] = mrgd.mean_y.apply(dMapClasses)\n",
    "\n",
    "# create a stand age field\n",
    "mrgd['dist_year'] = mrgd.mean_y.apply(StandAge)\n",
    "\n",
    "# Acquisition date\n",
    "mrgd['date'] = mrgd['imageId'].apply(lambda x: pd.to_datetime(x.split(\"_\")[-1]))"
   ]
  },
  {
   "cell_type": "markdown",
   "metadata": {},
   "source": [
    "---\n",
    "Estimate age in years\n",
    "\n",
    "*This is not a perfect age, but rather one that takes into account that we do not know the exact date of the original stand clearing disturbance. This is a lumping operation which loses precision but nevertheless generates a useful column."
   ]
  },
  {
   "cell_type": "code",
   "execution_count": 6,
   "metadata": {},
   "outputs": [],
   "source": [
    "# Make sure that all disturbance years are real\n",
    "mrgd = mrgd[mrgd.dist_year > 0]\n",
    "\n",
    "# Here, create the date filter for getting just february\n",
    "mrgd[\"month\"] = mrgd.date.apply(lambda x: x.month)\n",
    "mrgd = mrgd[mrgd.month == 2]"
   ]
  },
  {
   "cell_type": "code",
   "execution_count": 7,
   "metadata": {},
   "outputs": [],
   "source": [
    "# Create a year column\n",
    "mrgd[\"year\"] = mrgd.date.apply(lambda x: x.year)\n",
    "\n",
    "# estimate a disturbance date from disturbance year string. First day of year for all\n",
    "mrgd['est_dist_date'] = mrgd.dist_year.apply(\\\n",
    "             lambda x: pd.to_datetime(str(x)[:4] + \"-01-01\"))\n",
    "\n",
    "# Make an estimated age in year/season terms by subtracting the year of disturbance from the acquisition clumps...\n",
    "mrgd['age'] = mrgd['year'] - mrgd['dist_year']"
   ]
  },
  {
   "cell_type": "markdown",
   "metadata": {},
   "source": [
    "Now we will refine the dataset into the columns that we really want: \n",
    "\n",
    "1. LAI \n",
    "2. ID\n",
    "3. Age\n",
    "4. Date\n",
    "5. Age (years)\n",
    "6. Lat and Long (not this until we figure out issues)"
   ]
  },
  {
   "cell_type": "code",
   "execution_count": 8,
   "metadata": {},
   "outputs": [
    {
     "name": "stderr",
     "output_type": "stream",
     "text": [
      "/opt/anaconda3/lib/python3.7/site-packages/ipykernel_launcher.py:5: SettingWithCopyWarning: \n",
      "A value is trying to be set on a copy of a slice from a DataFrame.\n",
      "Try using .loc[row_indexer,col_indexer] = value instead\n",
      "\n",
      "See the caveats in the documentation: http://pandas.pydata.org/pandas-docs/stable/user_guide/indexing.html#returning-a-view-versus-a-copy\n",
      "  \"\"\"\n",
      "/opt/anaconda3/lib/python3.7/site-packages/ipykernel_launcher.py:8: SettingWithCopyWarning: \n",
      "A value is trying to be set on a copy of a slice from a DataFrame.\n",
      "Try using .loc[row_indexer,col_indexer] = value instead\n",
      "\n",
      "See the caveats in the documentation: http://pandas.pydata.org/pandas-docs/stable/user_guide/indexing.html#returning-a-view-versus-a-copy\n",
      "  \n"
     ]
    }
   ],
   "source": [
    "# include date, age, year/winter thing, year/age/winter thing, the lai, and the ID \n",
    "df = mrgd[['date', 'age', 'mean_x', '.geo']]\n",
    "\n",
    "# make LAI an understandable col\n",
    "df['LAI'] = df['mean_x']\n",
    "\n",
    "# This is the default second disturbance\n",
    "df[\"D2\"] = pd.to_datetime(\"2014-01-01\")\n",
    "\n",
    "# Re-arrange the columns\n",
    "df = df[[\".geo\", \"LAI\", \"date\", \"D2\", \"age\"]]\n",
    "\n",
    "# Re-name the columns\n",
    "df.columns = [\"ID\", \"LAI\", \"DATE\", \"D2\", \"AGE\"]"
   ]
  },
  {
   "cell_type": "markdown",
   "metadata": {},
   "source": [
    "Examine the data, and export."
   ]
  },
  {
   "cell_type": "code",
   "execution_count": 9,
   "metadata": {},
   "outputs": [],
   "source": [
    "# Cut out data before and on the year of stand clearing disturbance\n",
    "df = df[df[\"AGE\"] >= 1]\n",
    "\n",
    "# Realistic LAI value\n",
    "df = df[df[\"LAI\"] >= 0]\n",
    "df = df[df[\"LAI\"] < 10]\n",
    "\n",
    "# Acquisition before clearcut\n",
    "df = df[df[\"DATE\"] < df[\"D2\"]]\n",
    "\n",
    "# Make sure that there are no duplicate values\n",
    "df = df.drop_duplicates()"
   ]
  },
  {
   "cell_type": "markdown",
   "metadata": {},
   "source": [
    "---\n",
    "---\n",
    "Visualizations"
   ]
  },
  {
   "cell_type": "code",
   "execution_count": 10,
   "metadata": {},
   "outputs": [],
   "source": [
    "# Accept dataframe, age column, estimated year age winter clump column, lai, date, second disturbance, how to aggr.\n",
    "def lai_by_age(df, year_age_col, val_col, date_col, d2_col, AGG): \n",
    "    \n",
    "    # Age above zero\n",
    "    df = df[df[year_age_col] >= 0]\n",
    "    \n",
    "    # Realistic LAI value\n",
    "    df = df[df[val_col] >= 0]\n",
    "    df = df[df[val_col] < 10]\n",
    "    \n",
    "    # Acquisition before clearcut\n",
    "    df = df[df[date_col] < df[d2_col]]\n",
    "    \n",
    "    # Create x values corresponding to number of winters\n",
    "    x = np.array(list(set(df[year_age_col])))\n",
    "    \n",
    "    # create lists to hold mean and std bounds\n",
    "    mean_list = []\n",
    "    std_list = []\n",
    "    \n",
    "    # Iterate over number of winters\n",
    "    for year in x:\n",
    "        # Create dataframe for this year\n",
    "        sub = df[df[year_age_col] == year]\n",
    "        \n",
    "        # Decide on which yearly aggregation, then group by ID to get a winterly composite.\n",
    "        if AGG == \"MIN\": \n",
    "            sub = sub.groupby(\"ID\").min().reset_index()\n",
    "        elif AGG == \"MED\": \n",
    "            sub = sub.groupby(\"ID\").median().reset_index()\n",
    "        elif AGG == \"MAX\":\n",
    "            sub = sub.groupby(\"ID\").max().reset_index()\n",
    "        elif AGG == \"None\":\n",
    "            sub = sub\n",
    "        \n",
    "        # List LAI\n",
    "        lai_values = list(sub[val_col])\n",
    "        \n",
    "        # take mean\n",
    "        mean_lai = np.mean(lai_values)\n",
    "        \n",
    "        # take standard deviation\n",
    "        std_lai = np.std(lai_values)\n",
    "        \n",
    "        # append lists\n",
    "        mean_list.append(mean_lai)\n",
    "        std_list.append(std_lai)\n",
    "    \n",
    "    \n",
    "    # create figure\n",
    "    fig, ax = plt.subplots(figsize = (12, 8))\n",
    "    \n",
    "    # create axes\n",
    "    ax = plt.axes()\n",
    "    \n",
    "    # label axes\n",
    "    plt.xlabel(\"Years Since Stand Clearing Disturbance\", size = 18)\n",
    "    plt.ylabel(\"LAI\", size = 18)\n",
    "    \n",
    "    # Presentation stuff, visualization\n",
    "    plt.rcParams['savefig.pad_inches'] = 0\n",
    "    plt.rcParams.update({'font.size': 14})\n",
    "    ax.spines['right'].set_visible(False)\n",
    "    ax.spines['top'].set_visible(False) \n",
    "    \n",
    "    # Put error bars on the chart\n",
    "    ax.errorbar(x, mean_list, yerr=std_list, fmt='o',\\\n",
    "                color = \"black\", capsize = 3)\n",
    "\n",
    "    \n",
    "    # set ticks\n",
    "    plt.xticks(np.arange(1, len(x) + 1), [int(i) for i in x])"
   ]
  },
  {
   "cell_type": "code",
   "execution_count": 11,
   "metadata": {},
   "outputs": [],
   "source": [
    "# Accept dataframe, year of choice, age/winter/year, date, lai, second disturbance, what to aggregate by...\n",
    "def given_year_histogram(df, yr, year_age_col, date_col, val_col, d2_col, AGG):\n",
    "    \n",
    "    ## SUBSET DF ###################################\n",
    "    \n",
    "    # subset the dataframe for the given year\n",
    "    sub = df[df[year_age_col] == yr]\n",
    "    \n",
    "    # subset the dataframe for values that are past the potential second harvest date\n",
    "    sub = sub[sub[date_col] < sub[d2_col]]\n",
    "    \n",
    "    # subset the dataframe for only LAI values that are realistic\n",
    "    sub = sub[sub[val_col] >= 0]\n",
    "    sub = sub[sub[val_col] < 10]\n",
    "    #################################\n",
    "        \n",
    "    ## AGGREGATE DF ####################################\n",
    "    \n",
    "    if AGG == \"MIN\": \n",
    "        sub = sub.groupby(\"ID\").min().reset_index()\n",
    "    elif AGG == \"MED\": \n",
    "        sub = sub.groupby(\"ID\").median().reset_index()\n",
    "    elif AGG == \"MAX\": \n",
    "        sub = sub.groupby(\"ID\").max().reset_index()\n",
    "    elif AGG == \"None\":\n",
    "        sub = sub\n",
    "    #####################################################\n",
    "    \n",
    "    \n",
    "    ### PLOT HISTOGRAM ##############################\n",
    "    \n",
    "    # Create axes object\n",
    "    fig, ax = plt.subplots(figsize = (12, 8))\n",
    "    ax = plt.axes()\n",
    "    \n",
    "    # Make axis labels and viz parameters\n",
    "    plt.xlabel(\"LAI\", size = 18)\n",
    "    plt.ylabel(\"Count\", size = 18)\n",
    "    plt.rcParams['savefig.pad_inches'] = 0\n",
    "    plt.rcParams.update({'font.size': 14})\n",
    "    ax.spines['right'].set_visible(False)\n",
    "    ax.spines['top'].set_visible(False)\n",
    "    \n",
    "    # Plot the data\n",
    "    plt.hist(np.array(sub[val_col]), bins = 30, facecolor='none', edgecolor='black')\n",
    "    \n",
    "    # Annotate N\n",
    "    plt.annotate(s = \"n = \" + str(len(np.array(sub[val_col]))),\\\n",
    "            xy = (0.8, 0.85),\\\n",
    "            xycoords = \"figure fraction\")\n",
    "    ####################################################################################"
   ]
  },
  {
   "cell_type": "code",
   "execution_count": 12,
   "metadata": {},
   "outputs": [],
   "source": [
    "def plot_n(df, year_age_col, val_col, date_col, d2_col, AGG):\n",
    "    \n",
    "    #### 1. Subset DF ###\n",
    "    \n",
    "    # Age above zero\n",
    "    df = df[df[year_age_col] >= 0]\n",
    "    \n",
    "    # Realistic LAI value\n",
    "    df = df[df[val_col] >= 0]\n",
    "    df = df[df[val_col] < 10]\n",
    "\n",
    "    # Acquisition before clearcut\n",
    "    df = df[df[date_col] < df[d2_col]]\n",
    "    \n",
    "    ###      ###\n",
    "    \n",
    "    # Create x values corresponding to number of winters\n",
    "    x = np.array(list(set(df[year_age_col])))\n",
    "    y = []\n",
    "    \n",
    "    # Iterate over number of winters\n",
    "    for year in x:\n",
    "        # Create dataframe for this year\n",
    "        sub = df[df[year_age_col] == year]\n",
    "        \n",
    "        if AGG == \"MIN\": \n",
    "            sub = sub.groupby(\"ID\").min().reset_index()\n",
    "        elif AGG == \"MED\": \n",
    "            sub = sub.groupby(\"ID\").median().reset_index()\n",
    "        elif AGG == \"MAX\": \n",
    "            sub = sub.groupby(\"ID\").max().reset_index()\n",
    "        elif AGG == \"None\":\n",
    "            sub = sub\n",
    "        \n",
    "        # List LAI\n",
    "        lai_values = list(sub[val_col])\n",
    "        \n",
    "        # List number of values\n",
    "        num_values = len(lai_values)\n",
    "        \n",
    "        # put in list\n",
    "        y.append(num_values)\n",
    "        \n",
    "    # create figure\n",
    "    fig, ax = plt.subplots(figsize = (12, 8))\n",
    "    \n",
    "    # create axes\n",
    "    ax = plt.axes()\n",
    "    \n",
    "    # label axes\n",
    "    plt.xlabel(\"Years Since Stand Clearing Disturbance\", size = 18)\n",
    "    plt.ylabel(\"Count\", size = 18)\n",
    "    \n",
    "    # Presentation stuff, visualization\n",
    "    plt.rcParams['savefig.pad_inches'] = 0\n",
    "    plt.rcParams.update({'font.size': 14})\n",
    "    ax.spines['right'].set_visible(False)\n",
    "    ax.spines['top'].set_visible(False)  \n",
    "    \n",
    "    ax.plot(x, y, \"-o\", color = \"black\")\n",
    "    plt.xticks(np.arange(0, len(x)), [int(i) for i in x])"
   ]
  },
  {
   "cell_type": "code",
   "execution_count": 33,
   "metadata": {},
   "outputs": [],
   "source": [
    "def maximum_lai_histogram2(df, id_col, date_col, age_col,\\\n",
    "                           val_col, agg, age_threshold):\n",
    "    \n",
    "    maxlist = []\n",
    "    yearlist = []\n",
    "    \n",
    "    # set up id numbers\n",
    "    idlist = list(set(df[id_col]))\n",
    "    \n",
    "    for i in idlist:\n",
    "        # pick an ID\n",
    "        sub = df[df[id_col] == i]\n",
    "        \n",
    "        # subset between two disturbances\n",
    "#         d1 = sub[dist_col1].iloc[0]\n",
    "        \n",
    "        d2 = sub.D2.iloc[0]\n",
    "        \n",
    "        sub = sub[sub[age_col] > 0]\n",
    "#         sub = sub[sub[date_col] < d2]\n",
    "        \n",
    "        # subset for realistic LAI\n",
    "        sub = sub[sub[val_col] < 10]\n",
    "        sub = sub[sub[val_col] >= 0]\n",
    "        \n",
    "        # subset by how old the stand becomes\n",
    "        if sub.AGE.max() >= age_threshold:\n",
    "            \n",
    "        \n",
    "            # group by age in years, and take median value\n",
    "            if agg == \"MED\":\n",
    "                sub = sub.groupby(age_col).median().reset_index()\n",
    "            elif agg == \"MIN\":\n",
    "                sub = sub.groupby(age_col).min().reset_index()\n",
    "            elif agg == \"MAX\": \n",
    "                sub = sub.groupby(age_col).max().reset_index()\n",
    "\n",
    "            # subset by number of points\n",
    "\n",
    "            if len(sub[val_col]) > 7:\n",
    "\n",
    "                # take maximum\n",
    "                maxlist.append(sub.iloc[\\\n",
    "                                       int(sub[[val_col]].idxmax())\\\n",
    "                                       ][val_col])\n",
    "\n",
    "                # take year of maximum\n",
    "                yearlist.append(sub.iloc[\\\n",
    "                                        int(sub[[val_col]].idxmax())\\\n",
    "                                        ][age_col])\n",
    "\n",
    "                # take lat of maximum\n",
    "#                 latlist.append(sub.iloc[\\\n",
    "#                                         int(sub[[val_col]].idxmax())\\\n",
    "#                                         ][lat_col])\n",
    "\n",
    "                # take lon of maximum\n",
    "#                 lonlist.append(sub.iloc[\\\n",
    "#                                         int(sub[[val_col]].idxmax())\\\n",
    "#                                         ][lon_col])\n",
    "            else:\n",
    "                maxlist.append(np.nan)\n",
    "                yearlist.append(np.nan)\n",
    "#                 latlist.append(np.nan)\n",
    "#                 lonlist.append(np.nan)\n",
    "        else:\n",
    "            continue\n",
    "\n",
    "    return maxlist, yearlist"
   ]
  },
  {
   "cell_type": "code",
   "execution_count": 45,
   "metadata": {},
   "outputs": [],
   "source": [
    "def tenyrLAI_hist(df, id_col, date_col, age_col,\\\n",
    "                           val_col, agg, age_threshold):\n",
    "    yr10LAI = []\n",
    "    \n",
    "    idlist = list(set(df[id_col]))\n",
    "    \n",
    "    for i in idlist:\n",
    "        sub = df[df[id_col] == i]\n",
    "        \n",
    "        d2 = sub.D2.iloc[0]\n",
    "        \n",
    "        sub = sub[sub[age_col] > 0]\n",
    "        sub = sub[sub[date_col] < d2]\n",
    "        \n",
    "        sub = sub[sub[val_col] < 10]\n",
    "        sub = sub[sub[val_col] >= 0]\n",
    "        \n",
    "        if sub.AGE.max() >= age_threshold:\n",
    "            \n",
    "            \n",
    "            if agg == \"MED\":\n",
    "                sub = sub.groupby(age_col).median().reset_index()\n",
    "            elif agg == \"MIN\":\n",
    "                sub = sub.groupby(age_col).min().reset_index()\n",
    "            elif agg == \"MAX\": \n",
    "                sub = sub.groupby(age_col).max().reset_index()\n",
    "                \n",
    "            if len(sub[val_col]) > 7:\n",
    "                \n",
    "                if 10 in list(sub[age_col]):\n",
    "            \n",
    "                    laiage10 = sub[sub[age_col == 10]][age_col]\n",
    "                    yr10LAI.append(laiage10)\n",
    "                    \n",
    "    plt.hist(yr10LAI)"
   ]
  },
  {
   "cell_type": "code",
   "execution_count": 15,
   "metadata": {},
   "outputs": [],
   "source": [
    "# Accepts dataframe, col to hist, and title for fig\n",
    "def paper_hist(df, col, title):\n",
    "    \n",
    "    # Create axes\n",
    "    fig, ax = plt.subplots(1, 1, figsize = (12, 8))\n",
    "    ax = plt.axes()\n",
    "    \n",
    "    # Viz params\n",
    "    plt.xlabel(title, size = 18)\n",
    "    plt.ylabel(\"Count\", size = 18)\n",
    "    plt.rcParams['savefig.pad_inches'] = 0\n",
    "    plt.rcParams.update({'font.size': 14})\n",
    "    \n",
    "    ax.spines['right'].set_visible(False)\n",
    "    ax.spines['top'].set_visible(False)\n",
    "    \n",
    "    # Plot data and annotate N\n",
    "    plt.hist(np.array(df[col]), bins = 30, facecolor='none', edgecolor='black')\n"
   ]
  },
  {
   "cell_type": "code",
   "execution_count": 16,
   "metadata": {},
   "outputs": [],
   "source": [
    "def stand_ages(df, id_col, yr_age_col, val_col, date_col, d2_col):\n",
    "    \n",
    "    df = df[df[yr_age_col] >= 0]\n",
    "    \n",
    "    # Realistic LAI value\n",
    "    df = df[df[val_col] >= 0]\n",
    "    df = df[df[val_col] < 10]\n",
    "    \n",
    "    # Acquisition before clearcut\n",
    "    df = df[df[date_col] < df[d2_col]]\n",
    "    \n",
    "    sub = df[[id_col, yr_age_col]].groupby(id_col).max()\n",
    "    \n",
    "    rowDict = {}\n",
    "    \n",
    "    for i in range(0, 28):\n",
    "        rowDict[i] = len(sub[sub[yr_age_col] == i])\n",
    "    \n",
    "    for i in range(28, 32):\n",
    "        rowDict[i] = rowDict[i] = len(sub[sub[yr_age_col] == 28]) / 4\n",
    "    \n",
    "    \n",
    "#     # Add three rows for 2015, 2016, and 2017\n",
    "#     four_bottom = sub[sub[yr_age_col == 28]]\n",
    "#     size_four = len(four_bottom)/4\n",
    "    \n",
    "#     y = np.array(sub[yr_age_col]) \n",
    "    \n",
    "#     y = y.append(size_four)\n",
    "    \n",
    "    \n",
    "    \n",
    "#     # make that plot\n",
    "#     fig, ax = plt.subplots(1, 1, figsize = (12, 8))\n",
    "#     ax = plt.axes()\n",
    "    \n",
    "#     plt.xlabel(\"Year of Clearcut\", size = 18)\n",
    "#     plt.ylabel(\"Count\", size = 18)\n",
    "#     plt.rcParams['savefig.pad_inches'] = 0\n",
    "#     plt.rcParams.update({'font.size': 14})\n",
    "    \n",
    "#     ax.spines['right'].set_visible(False)\n",
    "#     ax.spines['top'].set_visible(False)\n",
    "    \n",
    "# #     plt.hist(np.array(sub[yr_age_col]), bins = 30, facecolor = \"none\", edgecolor = \"black\")\n",
    "# #     plt.hist(rowDict, bins = 30, facecolor = \"none\", edgecolor = \"black\")\n",
    "#     plt.bar(rowDict.keys(), rowDict.values(), facecolor = \"none\", edgecolor = \"black\")\n",
    "# #     x = np.array(sub[yr_age_col])\n",
    "#     plt.xticks(np.arange(0, len(rowDict.keys())), list(rowDict.keys()))\n",
    "    \n",
    "    return rowDict\n",
    "    "
   ]
  },
  {
   "cell_type": "markdown",
   "metadata": {},
   "source": [
    "---\n",
    "---"
   ]
  },
  {
   "cell_type": "markdown",
   "metadata": {},
   "source": [
    "---\n",
    "---"
   ]
  },
  {
   "cell_type": "markdown",
   "metadata": {},
   "source": [
    "Results:\n",
    "\n",
    "1. Overall, LAI peaks once around 12 years of age, and then again has a strong peak at 29 years of age, or the end of growing season.\n",
    "2. Min LAI has a peak of around 2.\n",
    "3. Rotation ages (according to the maps) somewhat linearly taper off"
   ]
  },
  {
   "cell_type": "markdown",
   "metadata": {},
   "source": [
    "Chart of LAI by Age"
   ]
  },
  {
   "cell_type": "code",
   "execution_count": 17,
   "metadata": {},
   "outputs": [
    {
     "data": {
      "image/png": "[encoded data removed]",
      "text/plain": [
       "<Figure size 864x576 with 1 Axes>"
      ]
     },
     "metadata": {
      "needs_background": "light"
     },
     "output_type": "display_data"
    }
   ],
   "source": [
    "lai_by_age(df = df, year_age_col = \"AGE\",\\\n",
    "           val_col = \"LAI\",\\\n",
    "           date_col = \"DATE\", d2_col = \"D2\", AGG = \"MAX\")"
   ]
  },
  {
   "cell_type": "code",
   "execution_count": 19,
   "metadata": {},
   "outputs": [
    {
     "data": {
      "image/png": "[encoded data removed]",
      "text/plain": [
       "<Figure size 864x576 with 1 Axes>"
      ]
     },
     "metadata": {
      "needs_background": "light"
     },
     "output_type": "display_data"
    }
   ],
   "source": [
    "fig, ax = plt.subplots(1, 1, figsize = (12, 8))\n",
    "ax = plt.axes()\n",
    "\n",
    "plt.ylabel(\"Count\", size = 18)\n",
    "plt.xlabel(\"LAI at Age 10\", size = 18)\n",
    "\n",
    "plt.rcParams['savefig.pad_inches'] = 0\n",
    "plt.rcParams.update({'font.size': 14})\n",
    "\n",
    "ax.spines['right'].set_visible(False)\n",
    "ax.spines['top'].set_visible(False)\n",
    "\n",
    "plt.hist(np.array(df[df.AGE == 10].LAI), bins = 30, facecolor='none', edgecolor='black');\n",
    "\n"
   ]
  },
  {
   "cell_type": "markdown",
   "metadata": {},
   "source": [
    "Plot Number of Data Points\n"
   ]
  },
  {
   "cell_type": "markdown",
   "metadata": {},
   "source": [
    "Create histogram of all LAI values within a specific stand age"
   ]
  },
  {
   "cell_type": "markdown",
   "metadata": {},
   "source": [
    "---\n",
    "---"
   ]
  },
  {
   "cell_type": "markdown",
   "metadata": {},
   "source": [
    "Create Maximum LAI Dataset"
   ]
  },
  {
   "cell_type": "code",
   "execution_count": 34,
   "metadata": {},
   "outputs": [],
   "source": [
    "year_threshold = 20\n",
    "# M, Y, LAT, LON = maximum_lai_histogram(df, \"ID\", \"DATE\", \"YR_AGE\", \"AGE\", \"LAI\",\\\n",
    "#                                        \"LAT\", \"LON\", \"MIN\", year_threshold)\n",
    "\n",
    "M, Y = maximum_lai_histogram2(df = df, id_col = \"ID\", date_col = \"DATE\",\\\n",
    "                       age_col = \"AGE\", \\\n",
    "                       val_col = \"LAI\", agg = \"MIN\", age_threshold = year_threshold)\n",
    "\n",
    "maxDF = pd.DataFrame()\n",
    "maxDF[\"MAX\"] = M\n",
    "maxDF[\"YEAR\"] = Y\n",
    "\n",
    "maxDF = maxDF.dropna()"
   ]
  },
  {
   "cell_type": "code",
   "execution_count": null,
   "metadata": {},
   "outputs": [],
   "source": [
    "np.mean(maxDF.MAX)"
   ]
  },
  {
   "cell_type": "code",
   "execution_count": 47,
   "metadata": {},
   "outputs": [
    {
     "data": {
      "image/png": "[encoded data removed]",
      "text/plain": [
       "<Figure size 864x576 with 1 Axes>"
      ]
     },
     "metadata": {
      "needs_background": "light"
     },
     "output_type": "display_data"
    }
   ],
   "source": [
    "paper_hist(maxDF, \"MAX\", \"Maximum LAI\")"
   ]
  },
  {
   "cell_type": "code",
   "execution_count": 48,
   "metadata": {},
   "outputs": [
    {
     "data": {
      "image/png": "[encoded data removed]",
      "text/plain": [
       "<Figure size 864x576 with 1 Axes>"
      ]
     },
     "metadata": {
      "needs_background": "light"
     },
     "output_type": "display_data"
    }
   ],
   "source": [
    "paper_hist(maxDF, \"YEAR\", \"Year of Maximum LAI\")"
   ]
  },
  {
   "cell_type": "code",
   "execution_count": null,
   "metadata": {},
   "outputs": [],
   "source": []
  }
 ],
 "metadata": {
  "kernelspec": {
   "display_name": "Python 3",
   "language": "python",
   "name": "python3"
  },
  "language_info": {
   "codemirror_mode": {
    "name": "ipython",
    "version": 3
   },
   "file_extension": ".py",
   "mimetype": "text/x-python",
   "name": "python",
   "nbconvert_exporter": "python",
   "pygments_lexer": "ipython3",
   "version": "3.7.4"
  }
 },
 "nbformat": 4,
 "nbformat_minor": 4
}
